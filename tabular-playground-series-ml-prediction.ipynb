{
 "cells": [
  {
   "cell_type": "code",
   "execution_count": 1,
   "id": "27b223ae",
   "metadata": {
    "_cell_guid": "b1076dfc-b9ad-4769-8c92-a6c4dae69d19",
    "_uuid": "8f2839f25d086af736a60e9eeb907d3b93b6e0e5",
    "execution": {
     "iopub.execute_input": "2021-08-15T21:14:18.458882Z",
     "iopub.status.busy": "2021-08-15T21:14:18.457609Z",
     "iopub.status.idle": "2021-08-15T21:14:18.471097Z",
     "shell.execute_reply": "2021-08-15T21:14:18.470483Z",
     "shell.execute_reply.started": "2021-08-15T21:09:21.178708Z"
    },
    "papermill": {
     "duration": 0.038599,
     "end_time": "2021-08-15T21:14:18.471295",
     "exception": false,
     "start_time": "2021-08-15T21:14:18.432696",
     "status": "completed"
    },
    "tags": []
   },
   "outputs": [
    {
     "name": "stdout",
     "output_type": "stream",
     "text": [
      "/kaggle/input/tabular-playground-series-aug-2021/sample_submission.csv\n",
      "/kaggle/input/tabular-playground-series-aug-2021/train.csv\n",
      "/kaggle/input/tabular-playground-series-aug-2021/test.csv\n"
     ]
    }
   ],
   "source": [
    "# This Python 3 environment comes with many helpful analytics libraries installed\n",
    "# It is defined by the kaggle/python Docker image: https://github.com/kaggle/docker-python\n",
    "# For example, here's several helpful packages to load\n",
    "\n",
    "import numpy as np # linear algebra\n",
    "import pandas as pd # data processing, CSV file I/O (e.g. pd.read_csv)\n",
    "\n",
    "# Input data files are available in the read-only \"../input/\" directory\n",
    "# For example, running this (by clicking run or pressing Shift+Enter) will list all files under the input directory\n",
    "\n",
    "import os\n",
    "for dirname, _, filenames in os.walk('/kaggle/input'):\n",
    "    for filename in filenames:\n",
    "        print(os.path.join(dirname, filename))\n",
    "\n",
    "# You can write up to 20GB to the current directory (/kaggle/working/) that gets preserved as output when you create a version using \"Save & Run All\" \n",
    "# You can also write temporary files to /kaggle/temp/, but they won't be saved outside of the current session"
   ]
  },
  {
   "cell_type": "code",
   "execution_count": 2,
   "id": "dd7b07e0",
   "metadata": {
    "execution": {
     "iopub.execute_input": "2021-08-15T21:14:18.514160Z",
     "iopub.status.busy": "2021-08-15T21:14:18.513419Z",
     "iopub.status.idle": "2021-08-15T21:14:29.382479Z",
     "shell.execute_reply": "2021-08-15T21:14:29.381392Z",
     "shell.execute_reply.started": "2021-08-15T21:09:21.192685Z"
    },
    "papermill": {
     "duration": 10.891686,
     "end_time": "2021-08-15T21:14:29.382637",
     "exception": false,
     "start_time": "2021-08-15T21:14:18.490951",
     "status": "completed"
    },
    "tags": []
   },
   "outputs": [],
   "source": [
    "df_train = pd.read_csv('../input/tabular-playground-series-aug-2021/train.csv', index_col='id')\n",
    "df_test = pd.read_csv('../input/tabular-playground-series-aug-2021/test.csv',  index_col='id')"
   ]
  },
  {
   "cell_type": "code",
   "execution_count": 3,
   "id": "851630a7",
   "metadata": {
    "execution": {
     "iopub.execute_input": "2021-08-15T21:14:29.426857Z",
     "iopub.status.busy": "2021-08-15T21:14:29.426109Z",
     "iopub.status.idle": "2021-08-15T21:14:29.429646Z",
     "shell.execute_reply": "2021-08-15T21:14:29.430111Z",
     "shell.execute_reply.started": "2021-08-15T21:09:29.046797Z"
    },
    "papermill": {
     "duration": 0.029202,
     "end_time": "2021-08-15T21:14:29.430282",
     "exception": false,
     "start_time": "2021-08-15T21:14:29.401080",
     "status": "completed"
    },
    "tags": []
   },
   "outputs": [
    {
     "data": {
      "text/plain": [
       "(250000, 101)"
      ]
     },
     "execution_count": 3,
     "metadata": {},
     "output_type": "execute_result"
    }
   ],
   "source": [
    "df_train.shape"
   ]
  },
  {
   "cell_type": "code",
   "execution_count": 4,
   "id": "8d1a94a2",
   "metadata": {
    "execution": {
     "iopub.execute_input": "2021-08-15T21:14:29.477461Z",
     "iopub.status.busy": "2021-08-15T21:14:29.476821Z",
     "iopub.status.idle": "2021-08-15T21:14:29.481077Z",
     "shell.execute_reply": "2021-08-15T21:14:29.480611Z",
     "shell.execute_reply.started": "2021-08-15T21:09:29.059555Z"
    },
    "papermill": {
     "duration": 0.03247,
     "end_time": "2021-08-15T21:14:29.481239",
     "exception": false,
     "start_time": "2021-08-15T21:14:29.448769",
     "status": "completed"
    },
    "tags": []
   },
   "outputs": [
    {
     "data": {
      "text/plain": [
       "['f1', 'f16', 'f27', 'f55', 'f86', 'loss']"
      ]
     },
     "execution_count": 4,
     "metadata": {},
     "output_type": "execute_result"
    }
   ],
   "source": [
    "int_col= []\n",
    "for col in df_train.columns:\n",
    "    if df_train[col].dtype == 'int64':\n",
    "        int_col.append(col)\n",
    "int_col"
   ]
  },
  {
   "cell_type": "code",
   "execution_count": 5,
   "id": "2ea35f89",
   "metadata": {
    "execution": {
     "iopub.execute_input": "2021-08-15T21:14:29.525523Z",
     "iopub.status.busy": "2021-08-15T21:14:29.524882Z",
     "iopub.status.idle": "2021-08-15T21:14:30.917041Z",
     "shell.execute_reply": "2021-08-15T21:14:30.916315Z",
     "shell.execute_reply.started": "2021-08-15T21:09:29.081053Z"
    },
    "papermill": {
     "duration": 1.417187,
     "end_time": "2021-08-15T21:14:30.917206",
     "exception": false,
     "start_time": "2021-08-15T21:14:29.500019",
     "status": "completed"
    },
    "tags": []
   },
   "outputs": [],
   "source": [
    "from sklearn.preprocessing import StandardScaler\n",
    "for col in df_train.columns[:-1]:\n",
    "    scaler = StandardScaler()\n",
    "    df_train[col] = scaler.fit_transform(np.array(df_train[col]).reshape(-1,1))\n",
    "    df_test[col] = scaler.transform(np.array(df_test[col]).reshape(-1,1))"
   ]
  },
  {
   "cell_type": "code",
   "execution_count": 6,
   "id": "afd80b50",
   "metadata": {
    "execution": {
     "iopub.execute_input": "2021-08-15T21:14:30.961765Z",
     "iopub.status.busy": "2021-08-15T21:14:30.960413Z",
     "iopub.status.idle": "2021-08-15T21:14:31.189488Z",
     "shell.execute_reply": "2021-08-15T21:14:31.190019Z",
     "shell.execute_reply.started": "2021-08-15T21:09:29.746636Z"
    },
    "papermill": {
     "duration": 0.253832,
     "end_time": "2021-08-15T21:14:31.190205",
     "exception": false,
     "start_time": "2021-08-15T21:14:30.936373",
     "status": "completed"
    },
    "tags": []
   },
   "outputs": [
    {
     "data": {
      "text/html": [
       "<div>\n",
       "<style scoped>\n",
       "    .dataframe tbody tr th:only-of-type {\n",
       "        vertical-align: middle;\n",
       "    }\n",
       "\n",
       "    .dataframe tbody tr th {\n",
       "        vertical-align: top;\n",
       "    }\n",
       "\n",
       "    .dataframe thead th {\n",
       "        text-align: right;\n",
       "    }\n",
       "</style>\n",
       "<table border=\"1\" class=\"dataframe\">\n",
       "  <thead>\n",
       "    <tr style=\"text-align: right;\">\n",
       "      <th></th>\n",
       "      <th>f1</th>\n",
       "      <th>f16</th>\n",
       "      <th>f27</th>\n",
       "      <th>f55</th>\n",
       "      <th>f86</th>\n",
       "      <th>loss</th>\n",
       "    </tr>\n",
       "  </thead>\n",
       "  <tbody>\n",
       "    <tr>\n",
       "      <th>f1</th>\n",
       "      <td>1.000000</td>\n",
       "      <td>0.005774</td>\n",
       "      <td>-0.000993</td>\n",
       "      <td>-0.001888</td>\n",
       "      <td>0.002761</td>\n",
       "      <td>0.011847</td>\n",
       "    </tr>\n",
       "    <tr>\n",
       "      <th>f16</th>\n",
       "      <td>0.005774</td>\n",
       "      <td>1.000000</td>\n",
       "      <td>0.005492</td>\n",
       "      <td>-0.000852</td>\n",
       "      <td>-0.000196</td>\n",
       "      <td>0.009227</td>\n",
       "    </tr>\n",
       "    <tr>\n",
       "      <th>f27</th>\n",
       "      <td>-0.000993</td>\n",
       "      <td>0.005492</td>\n",
       "      <td>1.000000</td>\n",
       "      <td>-0.002113</td>\n",
       "      <td>-0.000763</td>\n",
       "      <td>0.003635</td>\n",
       "    </tr>\n",
       "    <tr>\n",
       "      <th>f55</th>\n",
       "      <td>-0.001888</td>\n",
       "      <td>-0.000852</td>\n",
       "      <td>-0.002113</td>\n",
       "      <td>1.000000</td>\n",
       "      <td>0.000292</td>\n",
       "      <td>-0.008873</td>\n",
       "    </tr>\n",
       "    <tr>\n",
       "      <th>f86</th>\n",
       "      <td>0.002761</td>\n",
       "      <td>-0.000196</td>\n",
       "      <td>-0.000763</td>\n",
       "      <td>0.000292</td>\n",
       "      <td>1.000000</td>\n",
       "      <td>0.000694</td>\n",
       "    </tr>\n",
       "    <tr>\n",
       "      <th>loss</th>\n",
       "      <td>0.011847</td>\n",
       "      <td>0.009227</td>\n",
       "      <td>0.003635</td>\n",
       "      <td>-0.008873</td>\n",
       "      <td>0.000694</td>\n",
       "      <td>1.000000</td>\n",
       "    </tr>\n",
       "  </tbody>\n",
       "</table>\n",
       "</div>"
      ],
      "text/plain": [
       "            f1       f16       f27       f55       f86      loss\n",
       "f1    1.000000  0.005774 -0.000993 -0.001888  0.002761  0.011847\n",
       "f16   0.005774  1.000000  0.005492 -0.000852 -0.000196  0.009227\n",
       "f27  -0.000993  0.005492  1.000000 -0.002113 -0.000763  0.003635\n",
       "f55  -0.001888 -0.000852 -0.002113  1.000000  0.000292 -0.008873\n",
       "f86   0.002761 -0.000196 -0.000763  0.000292  1.000000  0.000694\n",
       "loss  0.011847  0.009227  0.003635 -0.008873  0.000694  1.000000"
      ]
     },
     "execution_count": 6,
     "metadata": {},
     "output_type": "execute_result"
    }
   ],
   "source": [
    "df_train[int_col].corr()"
   ]
  },
  {
   "cell_type": "code",
   "execution_count": 7,
   "id": "75905e3e",
   "metadata": {
    "execution": {
     "iopub.execute_input": "2021-08-15T21:14:31.236243Z",
     "iopub.status.busy": "2021-08-15T21:14:31.235015Z",
     "iopub.status.idle": "2021-08-15T21:14:31.551918Z",
     "shell.execute_reply": "2021-08-15T21:14:31.551357Z",
     "shell.execute_reply.started": "2021-08-15T21:09:29.956132Z"
    },
    "papermill": {
     "duration": 0.342487,
     "end_time": "2021-08-15T21:14:31.552054",
     "exception": false,
     "start_time": "2021-08-15T21:14:31.209567",
     "status": "completed"
    },
    "tags": []
   },
   "outputs": [],
   "source": [
    "loss_corr = []\n",
    "for col in df_train.columns:\n",
    "    loss_corr.append(np.abs(df_train.loss.corr(df_train[col])))\n",
    "    \n",
    "df_corr = pd.DataFrame(loss_corr , index=df_train.columns, columns=['corr']).sort_values(\"corr\", ascending=False)"
   ]
  },
  {
   "cell_type": "code",
   "execution_count": 8,
   "id": "66e73be2",
   "metadata": {
    "execution": {
     "iopub.execute_input": "2021-08-15T21:14:31.596308Z",
     "iopub.status.busy": "2021-08-15T21:14:31.595429Z",
     "iopub.status.idle": "2021-08-15T21:14:31.598568Z",
     "shell.execute_reply": "2021-08-15T21:14:31.598050Z",
     "shell.execute_reply.started": "2021-08-15T21:09:30.271654Z"
    },
    "papermill": {
     "duration": 0.026901,
     "end_time": "2021-08-15T21:14:31.598692",
     "exception": false,
     "start_time": "2021-08-15T21:14:31.571791",
     "status": "completed"
    },
    "tags": []
   },
   "outputs": [],
   "source": [
    "important_feature = set(df_corr.iloc[1:80].index).difference(int_col)"
   ]
  },
  {
   "cell_type": "code",
   "execution_count": 9,
   "id": "db3fd7fc",
   "metadata": {
    "execution": {
     "iopub.execute_input": "2021-08-15T21:14:31.645317Z",
     "iopub.status.busy": "2021-08-15T21:14:31.644644Z",
     "iopub.status.idle": "2021-08-15T21:14:31.648405Z",
     "shell.execute_reply": "2021-08-15T21:14:31.647804Z",
     "shell.execute_reply.started": "2021-08-15T21:09:30.278865Z"
    },
    "papermill": {
     "duration": 0.030697,
     "end_time": "2021-08-15T21:14:31.648535",
     "exception": false,
     "start_time": "2021-08-15T21:14:31.617838",
     "status": "completed"
    },
    "tags": []
   },
   "outputs": [
    {
     "data": {
      "text/plain": [
       "float64    100\n",
       "int64        1\n",
       "dtype: int64"
      ]
     },
     "execution_count": 9,
     "metadata": {},
     "output_type": "execute_result"
    }
   ],
   "source": [
    "df_train.dtypes.value_counts()"
   ]
  },
  {
   "cell_type": "code",
   "execution_count": 10,
   "id": "aeebe412",
   "metadata": {
    "execution": {
     "iopub.execute_input": "2021-08-15T21:14:31.692998Z",
     "iopub.status.busy": "2021-08-15T21:14:31.692387Z",
     "iopub.status.idle": "2021-08-15T21:14:31.697564Z",
     "shell.execute_reply": "2021-08-15T21:14:31.697018Z",
     "shell.execute_reply.started": "2021-08-15T21:09:30.297717Z"
    },
    "papermill": {
     "duration": 0.029745,
     "end_time": "2021-08-15T21:14:31.697694",
     "exception": false,
     "start_time": "2021-08-15T21:14:31.667949",
     "status": "completed"
    },
    "tags": []
   },
   "outputs": [
    {
     "data": {
      "text/plain": [
       "Index(['f0', 'f1', 'f2', 'f3', 'f4', 'f5', 'f6', 'f7', 'f8', 'f9',\n",
       "       ...\n",
       "       'f91', 'f92', 'f93', 'f94', 'f95', 'f96', 'f97', 'f98', 'f99', 'loss'],\n",
       "      dtype='object', length=101)"
      ]
     },
     "execution_count": 10,
     "metadata": {},
     "output_type": "execute_result"
    }
   ],
   "source": [
    "df_train.columns"
   ]
  },
  {
   "cell_type": "code",
   "execution_count": 11,
   "id": "6c0d6360",
   "metadata": {
    "execution": {
     "iopub.execute_input": "2021-08-15T21:14:31.742033Z",
     "iopub.status.busy": "2021-08-15T21:14:31.741439Z",
     "iopub.status.idle": "2021-08-15T21:14:32.043663Z",
     "shell.execute_reply": "2021-08-15T21:14:32.044166Z",
     "shell.execute_reply.started": "2021-08-15T21:09:30.313927Z"
    },
    "papermill": {
     "duration": 0.326843,
     "end_time": "2021-08-15T21:14:32.044340",
     "exception": false,
     "start_time": "2021-08-15T21:14:31.717497",
     "status": "completed"
    },
    "tags": []
   },
   "outputs": [],
   "source": [
    "from sklearn.metrics import mean_squared_error\n",
    "from sklearn.ensemble import GradientBoostingRegressor\n",
    "from sklearn.model_selection import train_test_split\n",
    "from sklearn.ensemble import RandomForestRegressor\n",
    "from xgboost import XGBRegressor"
   ]
  },
  {
   "cell_type": "code",
   "execution_count": 12,
   "id": "dd39b265",
   "metadata": {
    "execution": {
     "iopub.execute_input": "2021-08-15T21:14:32.086953Z",
     "iopub.status.busy": "2021-08-15T21:14:32.086353Z",
     "iopub.status.idle": "2021-08-15T21:14:32.089306Z",
     "shell.execute_reply": "2021-08-15T21:14:32.089870Z",
     "shell.execute_reply.started": "2021-08-15T21:09:30.326649Z"
    },
    "papermill": {
     "duration": 0.025596,
     "end_time": "2021-08-15T21:14:32.090013",
     "exception": false,
     "start_time": "2021-08-15T21:14:32.064417",
     "status": "completed"
    },
    "tags": []
   },
   "outputs": [],
   "source": [
    "# df_train = df_train.iloc[:100000]"
   ]
  },
  {
   "cell_type": "code",
   "execution_count": 13,
   "id": "daf26792",
   "metadata": {
    "execution": {
     "iopub.execute_input": "2021-08-15T21:14:32.132063Z",
     "iopub.status.busy": "2021-08-15T21:14:32.131488Z",
     "iopub.status.idle": "2021-08-15T21:14:32.386552Z",
     "shell.execute_reply": "2021-08-15T21:14:32.387085Z",
     "shell.execute_reply.started": "2021-08-15T21:09:30.345147Z"
    },
    "papermill": {
     "duration": 0.277615,
     "end_time": "2021-08-15T21:14:32.387275",
     "exception": false,
     "start_time": "2021-08-15T21:14:32.109660",
     "status": "completed"
    },
    "tags": []
   },
   "outputs": [],
   "source": [
    "X_train, X_val, y_train, y_val = train_test_split(df_train.drop([\"loss\"], axis=1),df_train['loss'],\n",
    "                                                  test_size=0.20, random_state=42)"
   ]
  },
  {
   "cell_type": "code",
   "execution_count": 14,
   "id": "8a31fa60",
   "metadata": {
    "execution": {
     "iopub.execute_input": "2021-08-15T21:14:32.430374Z",
     "iopub.status.busy": "2021-08-15T21:14:32.429783Z",
     "iopub.status.idle": "2021-08-15T21:14:32.558546Z",
     "shell.execute_reply": "2021-08-15T21:14:32.557963Z",
     "shell.execute_reply.started": "2021-08-15T21:09:30.642986Z"
    },
    "papermill": {
     "duration": 0.15101,
     "end_time": "2021-08-15T21:14:32.558689",
     "exception": false,
     "start_time": "2021-08-15T21:14:32.407679",
     "status": "completed"
    },
    "tags": []
   },
   "outputs": [],
   "source": [
    "X_train = X_train[important_feature]\n",
    "X_val = X_val[important_feature]\n",
    "X_test = df_test[important_feature]"
   ]
  },
  {
   "cell_type": "code",
   "execution_count": 15,
   "id": "0bbcc168",
   "metadata": {
    "execution": {
     "iopub.execute_input": "2021-08-15T21:14:32.604556Z",
     "iopub.status.busy": "2021-08-15T21:14:32.603888Z",
     "iopub.status.idle": "2021-08-15T21:14:32.605759Z",
     "shell.execute_reply": "2021-08-15T21:14:32.606245Z",
     "shell.execute_reply.started": "2021-08-15T21:09:30.788233Z"
    },
    "papermill": {
     "duration": 0.027656,
     "end_time": "2021-08-15T21:14:32.606408",
     "exception": false,
     "start_time": "2021-08-15T21:14:32.578752",
     "status": "completed"
    },
    "tags": []
   },
   "outputs": [],
   "source": [
    "params = {'n_estimators': 100, 'max_depth': 7, 'random_state': 0, \n",
    "          'min_samples_leaf' : 10, 'learning_rate': 0.1, 'subsample': 0.75, 'loss': 'ls'}\n",
    "reg = GradientBoostingRegressor()\n",
    "model=RandomForestRegressor(random_state=0)\n",
    "xgb = XGBRegressor(n_estimators=100, max_depth=5, eta=0.1, subsample=0.7, colsample_bytree=0.8)"
   ]
  },
  {
   "cell_type": "code",
   "execution_count": 16,
   "id": "a9248528",
   "metadata": {
    "execution": {
     "iopub.execute_input": "2021-08-15T21:14:32.649924Z",
     "iopub.status.busy": "2021-08-15T21:14:32.649308Z",
     "iopub.status.idle": "2021-08-15T21:14:32.651394Z",
     "shell.execute_reply": "2021-08-15T21:14:32.651883Z",
     "shell.execute_reply.started": "2021-08-15T21:09:30.796278Z"
    },
    "papermill": {
     "duration": 0.025758,
     "end_time": "2021-08-15T21:14:32.652040",
     "exception": false,
     "start_time": "2021-08-15T21:14:32.626282",
     "status": "completed"
    },
    "tags": []
   },
   "outputs": [],
   "source": [
    "# reg.fit(X_train, y_train)\n",
    "# np.sqrt(mean_squared_error(y_val, [int(i) for i in reg.predict(X_val)]))"
   ]
  },
  {
   "cell_type": "code",
   "execution_count": 17,
   "id": "dbd155af",
   "metadata": {
    "execution": {
     "iopub.execute_input": "2021-08-15T21:14:32.695226Z",
     "iopub.status.busy": "2021-08-15T21:14:32.694270Z",
     "iopub.status.idle": "2021-08-15T21:14:32.698370Z",
     "shell.execute_reply": "2021-08-15T21:14:32.697843Z",
     "shell.execute_reply.started": "2021-08-15T21:09:30.809570Z"
    },
    "papermill": {
     "duration": 0.026618,
     "end_time": "2021-08-15T21:14:32.698496",
     "exception": false,
     "start_time": "2021-08-15T21:14:32.671878",
     "status": "completed"
    },
    "tags": []
   },
   "outputs": [],
   "source": [
    "# np.sqrt(mean_squared_error(y_train, [int(i) for i in reg.predict(X_train)]))"
   ]
  },
  {
   "cell_type": "code",
   "execution_count": 18,
   "id": "a448e63c",
   "metadata": {
    "execution": {
     "iopub.execute_input": "2021-08-15T21:14:32.745949Z",
     "iopub.status.busy": "2021-08-15T21:14:32.745274Z",
     "iopub.status.idle": "2021-08-15T21:16:06.875584Z",
     "shell.execute_reply": "2021-08-15T21:16:06.876100Z",
     "shell.execute_reply.started": "2021-08-15T21:11:46.650168Z"
    },
    "papermill": {
     "duration": 94.157613,
     "end_time": "2021-08-15T21:16:06.876297",
     "exception": false,
     "start_time": "2021-08-15T21:14:32.718684",
     "status": "completed"
    },
    "tags": []
   },
   "outputs": [
    {
     "data": {
      "text/plain": [
       "7.864716142366487"
      ]
     },
     "execution_count": 18,
     "metadata": {},
     "output_type": "execute_result"
    }
   ],
   "source": [
    "xgb.fit(X_train, y_train)\n",
    "\n",
    "y_pred = xgb.predict(X_val)\n",
    "\n",
    "np.sqrt(mean_squared_error(y_val, [int(abs(i)) for i in y_pred]))"
   ]
  },
  {
   "cell_type": "code",
   "execution_count": 19,
   "id": "746e07a4",
   "metadata": {
    "execution": {
     "iopub.execute_input": "2021-08-15T21:16:06.939194Z",
     "iopub.status.busy": "2021-08-15T21:16:06.924462Z",
     "iopub.status.idle": "2021-08-15T21:16:07.367479Z",
     "shell.execute_reply": "2021-08-15T21:16:07.366966Z",
     "shell.execute_reply.started": "2021-08-15T21:11:35.090647Z"
    },
    "papermill": {
     "duration": 0.468322,
     "end_time": "2021-08-15T21:16:07.367618",
     "exception": false,
     "start_time": "2021-08-15T21:16:06.899296",
     "status": "completed"
    },
    "tags": []
   },
   "outputs": [
    {
     "data": {
      "text/plain": [
       "7.760650745910422"
      ]
     },
     "execution_count": 19,
     "metadata": {},
     "output_type": "execute_result"
    }
   ],
   "source": [
    "np.sqrt(mean_squared_error(y_train, [int(abs(i)) for i in xgb.predict(X_train)]))"
   ]
  },
  {
   "cell_type": "code",
   "execution_count": 20,
   "id": "61fbce91",
   "metadata": {
    "execution": {
     "iopub.execute_input": "2021-08-15T21:16:07.431019Z",
     "iopub.status.busy": "2021-08-15T21:16:07.415835Z",
     "iopub.status.idle": "2021-08-15T21:16:07.713791Z",
     "shell.execute_reply": "2021-08-15T21:16:07.714331Z",
     "shell.execute_reply.started": "2021-08-15T21:10:40.169246Z"
    },
    "papermill": {
     "duration": 0.323554,
     "end_time": "2021-08-15T21:16:07.714502",
     "exception": false,
     "start_time": "2021-08-15T21:16:07.390948",
     "status": "completed"
    },
    "tags": []
   },
   "outputs": [],
   "source": [
    "output = [int(abs(i)) for i in xgb.predict(X_test)]"
   ]
  },
  {
   "cell_type": "code",
   "execution_count": 21,
   "id": "72dff4f1",
   "metadata": {
    "execution": {
     "iopub.execute_input": "2021-08-15T21:16:07.767812Z",
     "iopub.status.busy": "2021-08-15T21:16:07.766620Z",
     "iopub.status.idle": "2021-08-15T21:16:08.234164Z",
     "shell.execute_reply": "2021-08-15T21:16:08.233532Z",
     "shell.execute_reply.started": "2021-08-15T21:10:40.416835Z"
    },
    "papermill": {
     "duration": 0.4988,
     "end_time": "2021-08-15T21:16:08.234304",
     "exception": false,
     "start_time": "2021-08-15T21:16:07.735504",
     "status": "completed"
    },
    "tags": []
   },
   "outputs": [],
   "source": [
    "output_csv = {\"id\":[*range(250000,250000+len(output))], \"loss\":output}\n",
    "Y_pre = pd.DataFrame(output_csv).astype(\"int64\")\n",
    "Y_pre.set_index(\"id\", drop=True, append=False, inplace=True)\n",
    "Y_pre.to_csv(\"/kaggle/working/submission.csv\")"
   ]
  },
  {
   "cell_type": "markdown",
   "id": "37bb6f4a",
   "metadata": {
    "papermill": {
     "duration": 0.02607,
     "end_time": "2021-08-15T21:16:08.281416",
     "exception": false,
     "start_time": "2021-08-15T21:16:08.255346",
     "status": "completed"
    },
    "tags": []
   },
   "source": [
    "### Thanks For Read my NoteBook :)"
   ]
  }
 ],
 "metadata": {
  "kernelspec": {
   "display_name": "Python 3",
   "language": "python",
   "name": "python3"
  },
  "language_info": {
   "codemirror_mode": {
    "name": "ipython",
    "version": 3
   },
   "file_extension": ".py",
   "mimetype": "text/x-python",
   "name": "python",
   "nbconvert_exporter": "python",
   "pygments_lexer": "ipython3",
   "version": "3.7.10"
  },
  "papermill": {
   "default_parameters": {},
   "duration": 118.43626,
   "end_time": "2021-08-15T21:16:09.018900",
   "environment_variables": {},
   "exception": null,
   "input_path": "__notebook__.ipynb",
   "output_path": "__notebook__.ipynb",
   "parameters": {},
   "start_time": "2021-08-15T21:14:10.582640",
   "version": "2.3.3"
  }
 },
 "nbformat": 4,
 "nbformat_minor": 5
}
